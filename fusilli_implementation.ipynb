{
 "cells": [
  {
   "cell_type": "code",
   "execution_count": 1,
   "id": "6f3fe87b-7f8a-453a-8243-25300cd85463",
   "metadata": {
    "scrolled": true
   },
   "outputs": [],
   "source": [
    "# !pip install git+https://github.com/florencejt/fusilli.git"
   ]
  },
  {
   "cell_type": "code",
   "execution_count": 2,
   "id": "0cb2afa1-1725-41ce-82f0-7300ca2d961b",
   "metadata": {},
   "outputs": [],
   "source": [
    "import os\n",
    "import torch\n",
    "import pandas as pd\n",
    "from pathlib import Path\n",
    "from PIL import Image\n",
    "from torchvision import transforms\n",
    "import matplotlib.pyplot as plt\n",
    "from tqdm import tqdm\n",
    "from torch import tensor\n",
    "\n",
    "from fusilli.data import prepare_fusion_data\n",
    "from fusilli.train import train_and_save_models\n",
    "from fusilli.fusionmodels.tabularimagefusion.concat_img_maps_tabular_maps import ConcatImageMapsTabularMaps\n",
    "from fusilli.eval import RealsVsPreds, ConfusionMatrix"
   ]
  },
  {
   "cell_type": "code",
   "execution_count": 3,
   "id": "318f7059-7ccd-4d92-baeb-f4dbf7402a05",
   "metadata": {},
   "outputs": [
    {
     "name": "stdout",
     "output_type": "stream",
     "text": [
      "NVIDIA A100-SXM4-80GB\n"
     ]
    }
   ],
   "source": [
    "# print(torch.cuda.is_available())\n",
    "print(torch.cuda.get_device_name(0))"
   ]
  },
  {
   "cell_type": "markdown",
   "id": "63f5173b-73a9-4a0a-803c-6fb6816fef92",
   "metadata": {},
   "source": [
    "## Data preprocessing"
   ]
  },
  {
   "cell_type": "code",
   "execution_count": 4,
   "id": "1baae41c-a993-41d2-8749-e1374fcad19e",
   "metadata": {},
   "outputs": [
    {
     "name": "stdout",
     "output_type": "stream",
     "text": [
      "cwd (base): /home/kumar65 \n",
      "\n",
      "df shape: (243, 28) \n",
      "\n",
      "df cols:  ['S.No', 'Patient Id', 'Joint Pain:', 'Gender', 'Age', 'Menopause Age', 'height  (meter)', 'Weight (KG) ', 'Smoker', 'Alcoholic', 'Diabetic', 'Hypothyroidism', 'Number of Pregnancies', 'Seizer Disorder', 'Estrogen Use', 'Occupation ', 'History of Fracture', 'Dialysis:', 'Family History of Osteoporosis', 'Maximum Walking distance (km)', 'Daily Eating habits', 'Medical History', 'T-score Value', 'Z-Score Value', 'BMI: ', 'Site', 'Obesity', 'Diagnosis']\n"
     ]
    }
   ],
   "source": [
    "print('cwd (base):', os.getcwd(),'\\n')\n",
    "\n",
    "# open and load csv\n",
    "base_dir = Path(\"Knee X-ray\")\n",
    "excel_path = base_dir / \"patient details.xlsx\"\n",
    "df = pd.read_excel(excel_path)\n",
    "\n",
    "column_names = list(df.columns)\n",
    "print(\"df shape:\", df.shape,'\\n')\n",
    "print('df cols: ', column_names)"
   ]
  },
  {
   "cell_type": "code",
   "execution_count": 5,
   "id": "de724ea3-3750-4b18-8f8d-32b052b7881b",
   "metadata": {
    "scrolled": true
   },
   "outputs": [
    {
     "name": "stdout",
     "output_type": "stream",
     "text": [
      "WARNING image N37.JPEG not found in Knee X-ray/normal folder\n"
     ]
    }
   ],
   "source": [
    "# strip leading/trailing spaces\n",
    "df['Diagnosis'] = df['Diagnosis'].str.strip()\n",
    "df[\"Patient Id\"] = df[\"Patient Id\"].astype(str).str.strip()\n",
    "\n",
    "image_paths = []\n",
    "for _, row in df.iterrows():\n",
    "    diagnosis = row[\"Diagnosis\"]\n",
    "    pid = row[\"Patient Id\"]\n",
    "\n",
    "    if pd.isna(diagnosis) or pd.isna(pid):\n",
    "        image_paths.append(None)\n",
    "        continue\n",
    "\n",
    "    folder = base_dir / diagnosis\n",
    "\n",
    "    # Try all possible common extensions\n",
    "    found_path = None\n",
    "    for ext in [\"jpg\", \"jpeg\", \"JPG\", \"JPEG\"]:\n",
    "        candidate = folder / f\"{pid}.{ext}\"\n",
    "        if candidate.exists():\n",
    "            found_path = candidate\n",
    "            break\n",
    "\n",
    "    if found_path:\n",
    "        image_paths.append(str(found_path))\n",
    "    else:\n",
    "        print(f\"WARNING image {pid}.JPEG not found in {folder} folder\")\n",
    "        image_paths.append(None)\n",
    "\n",
    "df[\"image_path\"] = image_paths"
   ]
  },
  {
   "cell_type": "code",
   "execution_count": 6,
   "id": "f5150fc6-940a-471f-ae93-14da282817ec",
   "metadata": {},
   "outputs": [
    {
     "name": "stdout",
     "output_type": "stream",
     "text": [
      "Removed 4 rows with missing images. Remaining: 239\n",
      "\n",
      "Saved mapped metadata in Knee X-ray/mapped_patient_details.csv...\n",
      "\n",
      "    ID   Diagnosis                      image_path\n",
      "0  OP1  osteopenia  Knee X-ray/osteopenia/OP1.JPEG\n",
      "1  OP2  osteopenia  Knee X-ray/osteopenia/OP2.JPEG\n",
      "2  OP3  osteopenia  Knee X-ray/osteopenia/OP3.JPEG\n",
      "3  OP4  osteopenia  Knee X-ray/osteopenia/OP4.JPEG\n",
      "4  OP5  osteopenia  Knee X-ray/osteopenia/OP5.JPEG\n"
     ]
    }
   ],
   "source": [
    "# clear up & remove missing data\n",
    "before = len(df)\n",
    "df = df.dropna(subset=[\"image_path\"])\n",
    "after = len(df)\n",
    "print(f\"Removed {before - after} rows with missing images. Remaining: {after}\\n\")\n",
    "\n",
    "# map 3 diagnoses to int identifiers\n",
    "label_map = {\"normal\": 0, \"osteopenia\": 1, \"osteoporosis\": 2}\n",
    "df[\"prediction_label\"] = df[\"Diagnosis\"].map(label_map)\n",
    "\n",
    "#------------------------------------ change this when changing to 3-class\n",
    "\n",
    "# BINARY labels -- normal vs low BMD (Osteopenia + Osteoporosis)\n",
    "# df[\"prediction_label\"] = df[\"Diagnosis\"].apply(lambda x: 0 if x == \"normal\" else 1)\n",
    "df = df.rename(columns={\n",
    "    \"Patient Id\": \"ID\",\n",
    "})\n",
    "#------------------------------------\n",
    "\n",
    "# save results in csv\n",
    "mapped_csv = base_dir / \"mapped_patient_details.csv\"\n",
    "df.to_csv(mapped_csv, index=False)\n",
    "print(f\"Saved mapped metadata in {mapped_csv}...\\n\")\n",
    "\n",
    "#sanity check\n",
    "print(df[[\"ID\", \"Diagnosis\", \"image_path\"]].head())"
   ]
  },
  {
   "cell_type": "markdown",
   "id": "2c9464d4-afc4-4e07-9884-39f05841ca76",
   "metadata": {},
   "source": [
    "## Fusilli"
   ]
  },
  {
   "cell_type": "code",
   "execution_count": 7,
   "id": "f779eccd-3b39-435a-afaa-076ccfbf6c08",
   "metadata": {},
   "outputs": [
    {
     "data": {
      "text/plain": [
       "prediction_label\n",
       "1    154\n",
       "2     49\n",
       "0     36\n",
       "Name: count, dtype: int64"
      ]
     },
     "execution_count": 7,
     "metadata": {},
     "output_type": "execute_result"
    }
   ],
   "source": [
    "# 0 = Normal, 1 = Low BMD (Osteopenia + Osteoporosis)\n",
    "df[\"prediction_label\"].value_counts()"
   ]
  },
  {
   "cell_type": "markdown",
   "id": "e21bee14-238e-4e59-9921-d9401ef4cc93",
   "metadata": {},
   "source": [
    "### Move all images to .pt tensor for loading in to Fusili"
   ]
  },
  {
   "cell_type": "code",
   "execution_count": 8,
   "id": "710bad2b-aa40-4bf6-a388-69e47780ce7b",
   "metadata": {},
   "outputs": [
    {
     "name": "stderr",
     "output_type": "stream",
     "text": [
      "100%|██████████| 239/239 [00:29<00:00,  8.17it/s]\n"
     ]
    },
    {
     "name": "stdout",
     "output_type": "stream",
     "text": [
      "Saved image tensor: Knee X-ray/images.pt shape: torch.Size([239, 1, 224, 224])\n"
     ]
    }
   ],
   "source": [
    "df = pd.read_csv(mapped_csv)\n",
    "transform = transforms.Compose([\n",
    "    transforms.Resize((224, 224)),\n",
    "    transforms.Grayscale(num_output_channels=1),\n",
    "    transforms.ToTensor()\n",
    "])\n",
    "\n",
    "images, valid_idx = [], []\n",
    "for i, row in tqdm(df.iterrows(), total=len(df)):\n",
    "    p = Path(row[\"image_path\"])\n",
    "    if not p.exists(): continue\n",
    "    img = Image.open(p).convert(\"RGB\")\n",
    "    images.append(transform(img))\n",
    "    valid_idx.append(i)\n",
    "\n",
    "image_tensor = torch.stack(images)\n",
    "torch.save(image_tensor, base_dir / \"images.pt\")\n",
    "df = df.loc[valid_idx].reset_index(drop=True)\n",
    "df.to_csv(mapped_csv, index=False)\n",
    "\n",
    "print(\"Saved image tensor:\", base_dir / \"images.pt\", \"shape:\", image_tensor.shape)"
   ]
  },
  {
   "cell_type": "code",
   "execution_count": 9,
   "id": "c0e9f0fb-4b06-4310-9d30-0ee001cdbbd1",
   "metadata": {},
   "outputs": [
    {
     "name": "stdout",
     "output_type": "stream",
     "text": [
      "numeric columns: ['S.No', 'Age', 'Menopause Age', 'height  (meter)', 'Weight (KG) ', 'Number of Pregnancies', 'Maximum Walking distance (km)', 'T-score Value', 'Z-Score Value', 'BMI: ', 'prediction_label']\n"
     ]
    }
   ],
   "source": [
    "# print(df.dtypes)\n",
    "numeric_cols = df.select_dtypes(include=['int64', 'float64']).columns.tolist()\n",
    "print(\"numeric columns:\", numeric_cols)"
   ]
  },
  {
   "cell_type": "code",
   "execution_count": 18,
   "id": "25c6f362-c34e-4bb7-8c92-2b75b622de50",
   "metadata": {},
   "outputs": [],
   "source": [
    "tabular_features = ['Age', 'height  (meter)', 'Weight (KG) ',\n",
    "                    'Number of Pregnancies', 'Maximum Walking distance (km)',\n",
    "                    'T-score Value', 'Z-Score Value', 'BMI: ']\n",
    "tabular_features += [\"ID\", \"prediction_label\"]\n",
    "df_numeric  = df[tabular_features]\n",
    "df_numeric = df_numeric.dropna()\n",
    "df_numeric.to_csv(\"Knee X-ray/mapped_patient_details_numeric.csv\", index=False)"
   ]
  },
  {
   "cell_type": "code",
   "execution_count": 19,
   "id": "4290715e-82c9-4ec2-96e0-b305ccf7fe35",
   "metadata": {},
   "outputs": [],
   "source": [
    "data_paths = {\n",
    "    \"tabular1\": \"Knee X-ray/mapped_patient_details_numeric.csv\",\n",
    "    \"tabular2\": \"\",\n",
    "    \"image\": \"Knee X-ray/images.pt\",\n",
    "}\n",
    "\n",
    "output_paths = {\n",
    "    \"checkpoints\": \"outputs/checkpoints\",\n",
    "    \"losses\": \"outputs/losses\",\n",
    "    \"figures\": \"outputs/figures\",\n",
    "}\n",
    "for p in output_paths.values():\n",
    "    os.makedirs(p, exist_ok=True)"
   ]
  },
  {
   "cell_type": "code",
   "execution_count": 29,
   "id": "b675a8d6-1cc6-40c1-bb89-e54d2ea5507e",
   "metadata": {},
   "outputs": [],
   "source": [
    "data_module = prepare_fusion_data(\n",
    "    prediction_task=\"multiclass\",\n",
    "    fusion_model=ConcatImageMapsTabularMaps,\n",
    "    data_paths=data_paths,\n",
    "    output_paths=output_paths,\n",
    "    batch_size=8,\n",
    "    test_size=0.2,\n",
    "    multiclass_dimensions=3,\n",
    "    image_downsample_size=(224, 224),  # default for CNNs\n",
    "    num_workers=4\n",
    ")"
   ]
  },
  {
   "cell_type": "code",
   "execution_count": 30,
   "id": "2fbd8e40-475b-471e-97f3-1564b3341c74",
   "metadata": {},
   "outputs": [],
   "source": [
    "# df_counts = df_numeric['prediction_label'].value_counts()\n",
    "# weights = df_numeric['prediction_label'].apply(lambda x: 1/class_counts[x]).values\n",
    "# pos_weight = tensor(weight_for_0)"
   ]
  },
  {
   "cell_type": "code",
   "execution_count": 33,
   "id": "ba31f7eb-0802-4f17-9805-822a89a97de6",
   "metadata": {
    "scrolled": true
   },
   "outputs": [
    {
     "name": "stderr",
     "output_type": "stream",
     "text": [
      "GPU available: True (cuda), used: True\n",
      "TPU available: False, using: 0 TPU cores\n",
      "HPU available: False, using: 0 HPUs\n",
      "/opt/conda/lib/python3.11/site-packages/lightning/fabric/loggers/csv_logs.py:268: Experiment logs directory outputs/losses/ConcatImageMapsTabularMaps exists and is not empty. Previous log files in this directory will be deleted when the new ones are saved!\n",
      "/opt/conda/lib/python3.11/site-packages/lightning/pytorch/callbacks/model_checkpoint.py:751: Checkpoint directory /home/kumar65/outputs/checkpoints exists and is not empty.\n",
      "LOCAL_RANK: 0 - CUDA_VISIBLE_DEVICES: [0]\n",
      "\n",
      "  | Name  | Type                       | Params | Mode \n",
      "-------------------------------------------------------------\n",
      "0 | model | ConcatImageMapsTabularMaps | 2.8 M  | train\n",
      "-------------------------------------------------------------\n",
      "2.8 M     Trainable params\n",
      "0         Non-trainable params\n",
      "2.8 M     Total params\n",
      "11.233    Total estimated model params size (MB)\n",
      "47        Modules in train mode\n",
      "0         Modules in eval mode\n"
     ]
    },
    {
     "name": "stdout",
     "output_type": "stream",
     "text": [
      "Epoch 0:  77%|███████▋  | 10/13 [00:00<00:00, 32.22it/s, v_num=Maps]"
     ]
    },
    {
     "name": "stderr",
     "output_type": "stream",
     "text": [
      "/opt/conda/lib/python3.11/site-packages/torchmetrics/utilities/prints.py:36: UserWarning: No positive samples in targets, true positive value should be meaningless. Returning zero tensor in true positive score\n",
      "  warnings.warn(*args, **kwargs)\n",
      "/opt/conda/lib/python3.11/site-packages/torchmetrics/utilities/prints.py:36: UserWarning: No negative samples in targets, false positive value should be meaningless. Returning zero tensor in false positive score\n",
      "  warnings.warn(*args, **kwargs)\n"
     ]
    },
    {
     "name": "stdout",
     "output_type": "stream",
     "text": [
      "Epoch 29: 100%|██████████| 13/13 [00:03<00:00,  4.25it/s, v_num=Maps, val_loss=0.580, train_loss=0.582]"
     ]
    },
    {
     "name": "stderr",
     "output_type": "stream",
     "text": [
      "`Trainer.fit` stopped: `max_epochs=30` reached.\n"
     ]
    },
    {
     "name": "stdout",
     "output_type": "stream",
     "text": [
      "Epoch 29: 100%|██████████| 13/13 [00:03<00:00,  3.89it/s, v_num=Maps, val_loss=0.580, train_loss=0.582]\n"
     ]
    },
    {
     "name": "stderr",
     "output_type": "stream",
     "text": [
      "LOCAL_RANK: 0 - CUDA_VISIBLE_DEVICES: [0]\n"
     ]
    },
    {
     "name": "stdout",
     "output_type": "stream",
     "text": [
      "────────────────────────────────────────────────────────────────────────────────────────────────────────────────────────\n",
      "     Validate metric           DataLoader 0\n",
      "────────────────────────────────────────────────────────────────────────────────────────────────────────────────────────\n",
      "        AUROC_val           0.8810068964958191\n",
      "      Accuracy_val          0.7916666865348816\n",
      "        val_loss            0.5800445675849915\n",
      "────────────────────────────────────────────────────────────────────────────────────────────────────────────────────────\n"
     ]
    }
   ],
   "source": [
    "trained_model = train_and_save_models(\n",
    "    data_module=data_module,\n",
    "    fusion_model=ConcatImageMapsTabularMaps,\n",
    "    training_modifications={\n",
    "        \"accelerator\": \"gpu\",\n",
    "        \"devices\": 1,       # number of GPUs\n",
    "        # \"loss_params\": {\n",
    "        #     \"pos_weight\": pos_weight\n",
    "        # }\n",
    "        # \"precision\": 16,    # mixed precision\n",
    "    },\n",
    "    max_epochs=30,\n",
    ")"
   ]
  },
  {
   "cell_type": "code",
   "execution_count": 34,
   "id": "c7cd48e6-8716-40ae-a5f6-f34694ab66b2",
   "metadata": {},
   "outputs": [
    {
     "data": {
      "image/png": "[encoded data removed]",
      "text/plain": [
       "<Figure size 640x480 with 1 Axes>"
      ]
     },
     "metadata": {},
     "output_type": "display_data"
    },
    {
     "data": {
      "image/png": "[encoded data removed]",
      "text/plain": [
       "<Figure size 750x750 with 1 Axes>"
      ]
     },
     "metadata": {},
     "output_type": "display_data"
    }
   ],
   "source": [
    "RealsVsPreds.from_final_val_data(trained_model)\n",
    "ConfusionMatrix.from_final_val_data(trained_model)\n",
    "plt.show()"
   ]
  },
  {
   "cell_type": "code",
   "execution_count": null,
   "id": "8221ad39-ef7e-428c-9f46-86de318d486d",
   "metadata": {},
   "outputs": [],
   "source": []
  }
 ],
 "metadata": {
  "kernelspec": {
   "display_name": "Python 3 (ipykernel)",
   "language": "python",
   "name": "python3"
  },
  "language_info": {
   "codemirror_mode": {
    "name": "ipython",
    "version": 3
   },
   "file_extension": ".py",
   "mimetype": "text/x-python",
   "name": "python",
   "nbconvert_exporter": "python",
   "pygments_lexer": "ipython3",
   "version": "3.11.6"
  }
 },
 "nbformat": 4,
 "nbformat_minor": 5
}
