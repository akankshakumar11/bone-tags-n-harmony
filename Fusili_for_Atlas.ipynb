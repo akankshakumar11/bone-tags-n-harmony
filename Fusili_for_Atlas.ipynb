{
 "cells": [
  {
   "cell_type": "code",
   "execution_count": 1,
   "id": "f53ce09a-a22b-41c3-aed5-4dd34fdec0a8",
   "metadata": {},
   "outputs": [],
   "source": [
    "# !pip install git+https://github.com/florencejt/fusilli.git\n",
    "# !pip install nibabel"
   ]
  },
  {
   "cell_type": "code",
   "execution_count": 2,
   "id": "3e264325-2755-4148-89ab-3a7028e52b09",
   "metadata": {},
   "outputs": [],
   "source": [
    "import os\n",
    "import torch\n",
    "import pandas as pd\n",
    "from pathlib import Path\n",
    "from PIL import Image\n",
    "from torchvision import transforms\n",
    "import matplotlib.pyplot as plt\n",
    "from tqdm import tqdm\n",
    "from torch import tensor\n",
    "import numpy as np\n",
    "import nibabel as nib\n",
    "import glob\n",
    "\n",
    "from fusilli.data import prepare_fusion_data\n",
    "from fusilli.train import train_and_save_models\n",
    "from fusilli.fusionmodels.tabularimagefusion.concat_img_maps_tabular_maps import ConcatImageMapsTabularMaps\n",
    "from fusilli.eval import RealsVsPreds, ConfusionMatrix"
   ]
  },
  {
   "cell_type": "code",
   "execution_count": 3,
   "id": "7d718702-33c8-4afc-bbac-843fa367abab",
   "metadata": {},
   "outputs": [],
   "source": [
    "#print(torch.cuda.is_available())\n",
    "# print(torch.cuda.get_device_name(0))"
   ]
  },
  {
   "cell_type": "code",
   "execution_count": 4,
   "id": "eef60826-f18e-473a-a7ba-1da34f68f43c",
   "metadata": {},
   "outputs": [
    {
     "name": "stdout",
     "output_type": "stream",
     "text": [
      "cwd (base): C:\\Users\\bnish\\Downloads\\ATLAS_R2.0\\ATLAS_R2.0 \n",
      "\n"
     ]
    }
   ],
   "source": [
    "## Data preprocessing\n",
    "print('cwd (base):', os.getcwd(),'\\n')\n",
    "\n",
    "# open and load csv\n",
    "base_dir = Path(r\"C:\\Users\\bnish\\Downloads\\ATLAS_R2.0\\ATLAS_R2.0\\ATLAS_2\")  \n",
    "meta_xlsx  = base_dir / \"20220425_ATLAS_2.0_MetaData.xlsx\"          \n",
    "train_dir  = base_dir / \"Training\"  \n",
    "test_dir   = base_dir / \"Testing\" \n",
    "\n",
    "meta_df = pd.read_excel(meta_xlsx)"
   ]
  },
  {
   "cell_type": "code",
   "execution_count": 5,
   "id": "cb853d76-a5e3-4e20-8345-154636b6be84",
   "metadata": {},
   "outputs": [],
   "source": [
    "def norm_sub_id(x):\n",
    "    s = str(x).strip()\n",
    "    return s.replace(\"sub-\",\"\")\n",
    "\n",
    "meta_df[\"ID\"] = meta_df[\"Subject ID\"].apply(norm_sub_id)"
   ]
  },
  {
   "cell_type": "code",
   "execution_count": 6,
   "id": "f83fc9dc-9eb1-48ec-8de5-d600109ba032",
   "metadata": {},
   "outputs": [
    {
     "name": "stdout",
     "output_type": "stream",
     "text": [
      "Fixed T1w paths for 655/655 subjects in Training\n"
     ]
    }
   ],
   "source": [
    "# T1w image paths\n",
    "def find_t1_for_subject(sub_id: str) -> str | None:\n",
    "    patterns = [\n",
    "        str(train_dir / f\"**/*{sub_id}*/*anat/*T1w*.nii*\"),\n",
    "        str(train_dir / f\"**/*{sub_id}*/*T1w*.nii*\"),\n",
    "        str(train_dir / f\"**/*{sub_id}*T1w*.nii*\"),\n",
    "    ]\n",
    "    for pat in patterns:\n",
    "        hits = glob.glob(pat, recursive=True)\n",
    "        if hits:\n",
    "            return hits[0]\n",
    "    return None\n",
    "\n",
    "meta_df[\"image_path\"] = meta_df[\"ID\"].apply(find_t1_for_subject)\n",
    "\n",
    "before = len(meta_df)\n",
    "meta_df = meta_df.dropna(subset=[\"image_path\"]).reset_index(drop=True)\n",
    "after = len(meta_df)\n",
    "print(f\"Fixed T1w paths for {after}/{before} subjects in Training\")"
   ]
  },
  {
   "cell_type": "code",
   "execution_count": 7,
   "id": "bfc8aa39-5207-402e-85d6-7a4a8241c4c8",
   "metadata": {},
   "outputs": [],
   "source": [
    "# Add labels\n",
    "def map_hemi(x):\n",
    "    s = str(x).strip().lower()\n",
    "    if s.startswith(\"l\"): #Left\n",
    "        return 0\n",
    "    if s.startswith(\"r\"): #Right\n",
    "        return 1\n",
    "    return 2 #Other\n",
    "\n",
    "if \"Primary Stroke Hemisphere\" in meta_df.columns:\n",
    "    meta_df[\"prediction_label\"] = meta_df[\"Primary Stroke Hemisphere\"].apply(map_hemi)\n",
    "    \n",
    "else:\n",
    "    if \"Lesion Volume\" not in meta_df.columns:\n",
    "        raise ValueError(\"Neither 'Primary Stroke Hemisphere' nor 'Lesion Volume' in MetaData.xlsx.\")\n",
    "    q = meta_df[\"Lesion Volume\"].quantile([0.33, 0.66]).values\n",
    "    \n",
    "    def size_bin(v):\n",
    "        if v <= q[0]: return 0\n",
    "        if v <= q[1]: return 1\n",
    "        return 2\n",
    "        \n",
    "    meta_df[\"prediction_label\"] = meta_df[\"Lesion Volume\"].apply(size_bin)\n",
    "    print(\"Using 3-class lesion size bins from 'Lesion Volume'.\")"
   ]
  },
  {
   "cell_type": "code",
   "execution_count": 8,
   "id": "11feeaca-f9b9-4d9f-a844-877b3a75cb06",
   "metadata": {},
   "outputs": [
    {
     "name": "stdout",
     "output_type": "stream",
     "text": [
      "Saved mapped metadata in C:\\Users\\bnish\\Downloads\\ATLAS_R2.0\\ATLAS_R2.0\\ATLAS_2\\mapped_atlas_metadata.csv...\n",
      "\n",
      "         ID                                         image_path  \\\n",
      "0  r001s001  C:\\Users\\bnish\\Downloads\\ATLAS_R2.0\\ATLAS_R2.0...   \n",
      "1  r001s002  C:\\Users\\bnish\\Downloads\\ATLAS_R2.0\\ATLAS_R2.0...   \n",
      "2  r001s003  C:\\Users\\bnish\\Downloads\\ATLAS_R2.0\\ATLAS_R2.0...   \n",
      "3  r001s004  C:\\Users\\bnish\\Downloads\\ATLAS_R2.0\\ATLAS_R2.0...   \n",
      "4  r001s005  C:\\Users\\bnish\\Downloads\\ATLAS_R2.0\\ATLAS_R2.0...   \n",
      "\n",
      "  Primary Stroke Hemisphere  \n",
      "0                     Right  \n",
      "1                     Right  \n",
      "2                     Right  \n",
      "3                      Left  \n",
      "4                      Left  \n"
     ]
    }
   ],
   "source": [
    "# New csv for mapped data for later\n",
    "mapped_csv = base_dir / \"mapped_atlas_metadata.csv\"\n",
    "meta_df.to_csv(mapped_csv, index=False)\n",
    "print(f\"Saved mapped metadata in {mapped_csv}...\\n\")\n",
    "print(meta_df[[\"ID\",\"image_path\",\"Primary Stroke Hemisphere\" if \"Primary Stroke Hemisphere\" in meta_df.columns else \"Lesion Volume\"]].head())"
   ]
  },
  {
   "cell_type": "code",
   "execution_count": 9,
   "id": "388c5699-8e8d-4dc0-a782-8fa96842e042",
   "metadata": {},
   "outputs": [
    {
     "name": "stderr",
     "output_type": "stream",
     "text": [
      "100%|████████████████████████████████████████████████████████████████████████████████| 655/655 [02:16<00:00,  4.81it/s]\n"
     ]
    },
    {
     "name": "stdout",
     "output_type": "stream",
     "text": [
      "Saved image tensor: C:\\Users\\bnish\\Downloads\\ATLAS_R2.0\\ATLAS_R2.0\\ATLAS_2\\images.pt shape: torch.Size([655, 1, 224, 224])\n"
     ]
    }
   ],
   "source": [
    "transform = transforms.Compose([\n",
    "    transforms.Resize((224, 224)),\n",
    "    transforms.Grayscale(num_output_channels=1),\n",
    "    transforms.ToTensor()\n",
    "])\n",
    "\n",
    "def middle_axial_slice_2uint8(nifti_path: Path) -> Image.Image:\n",
    "    ni = nib.load(str(nifti_path))\n",
    "    data = ni.get_fdata()\n",
    "    z = data.shape[2] // 2\n",
    "    slice2d = data[:, :, z]\n",
    "    lo, hi = np.percentile(slice2d[np.isfinite(slice2d)], [1, 99])\n",
    "    slice2d = np.clip((slice2d - lo) / (hi - lo + 1e-8), 0, 1)\n",
    "    slice2d = (slice2d * 255.0).astype(np.uint8)\n",
    "    return Image.fromarray(slice2d)  # single-channel\n",
    "\n",
    "df = pd.read_csv(mapped_csv)\n",
    "images, valid_idx = [], []\n",
    "for i, row in tqdm(df.iterrows(), total=len(df)):\n",
    "    p = Path(row[\"image_path\"])\n",
    "    if not p.exists(): continue\n",
    "    pil_img = middle_axial_slice_2uint8(p)\n",
    "    images.append(transform(pil_img))   # [1, 224, 224]\n",
    "    valid_idx.append(i)\n",
    "\n",
    "image_tensor = torch.stack(images)      # [N, 1, 224, 224]\n",
    "torch.save(image_tensor, base_dir / \"images.pt\")\n",
    "df = df.loc[valid_idx].reset_index(drop=True)\n",
    "df.to_csv(mapped_csv, index=False)\n",
    "print(\"Saved image tensor:\", base_dir / \"images.pt\", \"shape:\", image_tensor.shape)"
   ]
  },
  {
   "cell_type": "code",
   "execution_count": 10,
   "id": "f99864cd-5fa9-4c3f-a66c-84a8089d81b2",
   "metadata": {},
   "outputs": [
    {
     "name": "stdout",
     "output_type": "stream",
     "text": [
      "[Tabular cleanup] kept 13 numeric feature columns; dropped 11: ['Organism', 'Organism Part', 'Developmental Stage', 'Primary Stroke Hemisphere', 'Primary Stroke Location', 'Secondary Stroke Hemisphere', 'Secondary Stroke Location', 'Scanner Brand', 'ATLAS 1.2 Subject ID', 'INDI Subject ID', 'Chronicity']\n",
      "[Tabular cleanup] final shape: (544, 15)\n"
     ]
    }
   ],
   "source": [
    "df_numeric = pd.read_csv(mapped_csv)\n",
    "df_numeric[\"prediction_label\"] = pd.to_numeric(df_numeric[\"prediction_label\"], errors=\"coerce\").astype(\"Int64\")\n",
    "non_feature_cols = {\"ID\", \"prediction_label\"}\n",
    "\n",
    "def to_numeric_series(s: pd.Series) -> pd.Series:\n",
    "    if s.dtype.kind in \"biufc\":\n",
    "        return s\n",
    "    str_s = s.astype(str).str.strip()\n",
    "    first_number = str_s.str.extract(r\"([+-]?\\d+(?:\\.\\d+)?(?:[eE][+-]?\\d+)?)\", expand=False)\n",
    "    out = pd.to_numeric(first_number, errors=\"coerce\")\n",
    "    return out\n",
    "\n",
    "clean = {}\n",
    "for c in df_numeric.columns:\n",
    "    if c in non_feature_cols:\n",
    "        clean[c] = df_numeric[c]\n",
    "    else:\n",
    "        clean[c] = to_numeric_series(df_numeric[c])\n",
    "\n",
    "clean = pd.DataFrame(clean)\n",
    "\n",
    "feature_cols = [c for c in clean.columns if c not in non_feature_cols]\n",
    "min_non_na = max(10, int(0.6 * len(clean))) \n",
    "kept = []\n",
    "dropped = []\n",
    "for c in feature_cols:\n",
    "    if clean[c].notna().sum() >= min_non_na:\n",
    "        kept.append(c)\n",
    "    else:\n",
    "        dropped.append(c)\n",
    "clean = clean[[\"ID\", \"prediction_label\"] + kept].dropna().reset_index(drop=True)\n",
    "\n",
    "clean[kept] = clean[kept].astype(\"float32\")\n",
    "clean[\"prediction_label\"] = clean[\"prediction_label\"].astype(\"int64\")\n",
    "\n",
    "tabular_csv = base_dir / \"mapped_atlas_numeric.csv\"\n",
    "clean.to_csv(tabular_csv, index=False)\n",
    "\n",
    "print(f\"[Tabular cleanup] kept {len(kept)} numeric feature columns; dropped {len(dropped)}: {dropped}\")\n",
    "print(f\"[Tabular cleanup] final shape: {clean.shape}\")\n",
    "\n",
    "\n",
    "\n",
    "data_paths = {\n",
    "    \"tabular1\": str(tabular_csv),\n",
    "    \"tabular2\": \"\",\n",
    "    \"image\": str(base_dir / \"images.pt\"),\n",
    "}"
   ]
  },
  {
   "cell_type": "code",
   "execution_count": 11,
   "id": "88b42ddd-a967-4586-b9df-44bbddc635ee",
   "metadata": {},
   "outputs": [],
   "source": [
    "output_paths = {\n",
    "    \"checkpoints\": \"outputs/checkpoints\",\n",
    "    \"losses\": \"outputs/losses\",\n",
    "    \"figures\": \"outputs/figures\",\n",
    "}\n",
    "for p in output_paths.values():\n",
    "    os.makedirs(p, exist_ok=True)"
   ]
  },
  {
   "cell_type": "code",
   "execution_count": 12,
   "id": "691a7902-ad8b-4d9d-a922-d4be1a96ef17",
   "metadata": {},
   "outputs": [],
   "source": [
    "data_module = prepare_fusion_data(\n",
    "    prediction_task=\"multiclass\",\n",
    "    fusion_model=ConcatImageMapsTabularMaps,\n",
    "    data_paths=data_paths,\n",
    "    output_paths=output_paths,\n",
    "    batch_size=8,\n",
    "    test_size=0.2,\n",
    "    multiclass_dimensions=3,\n",
    "    image_downsample_size=(224, 224),  # default for CNNs\n",
    "    num_workers=4\n",
    ")"
   ]
  },
  {
   "cell_type": "code",
   "execution_count": 13,
   "id": "a5a53ec7-e414-43e6-8cc4-a69e0e9d0bc9",
   "metadata": {},
   "outputs": [],
   "source": [
    "# df_counts = df_numeric['prediction_label'].value_counts()\n",
    "# weights = df_numeric['prediction_label'].apply(lambda x: 1/class_counts[x]).values\n",
    "# pos_weight = tensor(weight_for_0)"
   ]
  },
  {
   "cell_type": "code",
   "execution_count": 14,
   "id": "325f53dc-111a-4eeb-804d-97971e464734",
   "metadata": {},
   "outputs": [
    {
     "name": "stdout",
     "output_type": "stream",
     "text": [
      "class_weights [w0,w1,w2]: [0.7426303625106812, 0.7554786801338196, 3.032407522201538]\n"
     ]
    }
   ],
   "source": [
    "import torch\n",
    "import pandas as pd\n",
    "\n",
    "counts = df_numeric['prediction_label'].value_counts().sort_index()\n",
    "\n",
    "inv_freq = (counts.sum() / (len(counts) * counts)).values\n",
    "class_weights = torch.tensor(inv_freq, dtype=torch.float)\n",
    "print(\"class_weights [w0,w1,w2]:\", class_weights.tolist())"
   ]
  },
  {
   "cell_type": "code",
   "execution_count": 16,
   "id": "7f922209-d5eb-4bf2-9bc1-f2d6ceadc621",
   "metadata": {},
   "outputs": [
    {
     "name": "stderr",
     "output_type": "stream",
     "text": [
      "GPU available: False, used: False\n",
      "TPU available: False, using: 0 TPU cores\n",
      "HPU available: False, using: 0 HPUs\n",
      "\n",
      "  | Name  | Type                       | Params | Mode \n",
      "-------------------------------------------------------------\n",
      "0 | model | ConcatImageMapsTabularMaps | 2.8 M  | train\n",
      "-------------------------------------------------------------\n",
      "2.8 M     Trainable params\n",
      "0         Non-trainable params\n",
      "2.8 M     Total params\n",
      "11.234    Total estimated model params size (MB)\n",
      "47        Modules in train mode\n",
      "0         Modules in eval mode\n",
      "C:\\Users\\bnish\\anaconda3\\Lib\\site-packages\\lightning\\pytorch\\trainer\\connectors\\data_connector.py:428: Consider setting `persistent_workers=True` in 'train_dataloader' to speed up the dataloader worker initialization.\n",
      "C:\\Users\\bnish\\anaconda3\\Lib\\site-packages\\lightning\\pytorch\\trainer\\connectors\\data_connector.py:428: Consider setting `persistent_workers=True` in 'val_dataloader' to speed up the dataloader worker initialization.\n"
     ]
    },
    {
     "data": {
      "application/vnd.jupyter.widget-view+json": {
       "model_id": "ef0bf4f6861345fcabdd5d595a944609",
       "version_major": 2,
       "version_minor": 0
      },
      "text/plain": [
       "Training: |                                                                                      | 0/? [00:00<…"
      ]
     },
     "metadata": {},
     "output_type": "display_data"
    },
    {
     "name": "stderr",
     "output_type": "stream",
     "text": [
      "C:\\Users\\bnish\\anaconda3\\Lib\\site-packages\\torchmetrics\\utilities\\prints.py:36: UserWarning: No positive samples in targets, true positive value should be meaningless. Returning zero tensor in true positive score\n",
      "  warnings.warn(*args, **kwargs)\n",
      "C:\\Users\\bnish\\anaconda3\\Lib\\site-packages\\torchmetrics\\utilities\\prints.py:36: UserWarning: No negative samples in targets, false positive value should be meaningless. Returning zero tensor in false positive score\n",
      "  warnings.warn(*args, **kwargs)\n"
     ]
    },
    {
     "data": {
      "text/html": [
       "<pre style=\"white-space:pre;overflow-x:auto;line-height:normal;font-family:Menlo,'DejaVu Sans Mono',consolas,'Courier New',monospace\">┏━━━━━━━━━━━━━━━━━━━━━━━━━━━┳━━━━━━━━━━━━━━━━━━━━━━━━━━━┓\n",
       "┃<span style=\"font-weight: bold\">      Validate metric      </span>┃<span style=\"font-weight: bold\">       DataLoader 0        </span>┃\n",
       "┡━━━━━━━━━━━━━━━━━━━━━━━━━━━╇━━━━━━━━━━━━━━━━━━━━━━━━━━━┩\n",
       "│<span style=\"color: #008080; text-decoration-color: #008080\">         AUROC_val         </span>│<span style=\"color: #800080; text-decoration-color: #800080\">    0.6611514091491699     </span>│\n",
       "│<span style=\"color: #008080; text-decoration-color: #008080\">       Accuracy_val        </span>│<span style=\"color: #800080; text-decoration-color: #800080\">    0.5277777910232544     </span>│\n",
       "│<span style=\"color: #008080; text-decoration-color: #008080\">         val_loss          </span>│<span style=\"color: #800080; text-decoration-color: #800080\">    0.9349795579910278     </span>│\n",
       "└───────────────────────────┴───────────────────────────┘\n",
       "</pre>\n"
      ],
      "text/plain": [
       "┏━━━━━━━━━━━━━━━━━━━━━━━━━━━┳━━━━━━━━━━━━━━━━━━━━━━━━━━━┓\n",
       "┃\u001b[1m \u001b[0m\u001b[1m     Validate metric     \u001b[0m\u001b[1m \u001b[0m┃\u001b[1m \u001b[0m\u001b[1m      DataLoader 0       \u001b[0m\u001b[1m \u001b[0m┃\n",
       "┡━━━━━━━━━━━━━━━━━━━━━━━━━━━╇━━━━━━━━━━━━━━━━━━━━━━━━━━━┩\n",
       "│\u001b[36m \u001b[0m\u001b[36m        AUROC_val        \u001b[0m\u001b[36m \u001b[0m│\u001b[35m \u001b[0m\u001b[35m   0.6611514091491699    \u001b[0m\u001b[35m \u001b[0m│\n",
       "│\u001b[36m \u001b[0m\u001b[36m      Accuracy_val       \u001b[0m\u001b[36m \u001b[0m│\u001b[35m \u001b[0m\u001b[35m   0.5277777910232544    \u001b[0m\u001b[35m \u001b[0m│\n",
       "│\u001b[36m \u001b[0m\u001b[36m        val_loss         \u001b[0m\u001b[36m \u001b[0m│\u001b[35m \u001b[0m\u001b[35m   0.9349795579910278    \u001b[0m\u001b[35m \u001b[0m│\n",
       "└───────────────────────────┴───────────────────────────┘\n"
      ]
     },
     "metadata": {},
     "output_type": "display_data"
    }
   ],
   "source": [
    "trained_model = train_and_save_models(\n",
    "    data_module=data_module,\n",
    "    fusion_model=ConcatImageMapsTabularMaps,\n",
    "    training_modifications={\n",
    "        \"accelerator\": \"cpu\",\n",
    "        \"devices\": 1,       # number of GPUs\n",
    "         \"loss_params\": {\n",
    "        #     \"pos_weight\": pos_weight\n",
    "        \"weight\": class_weights },\n",
    "        # \"precision\": 16,    # mixed precision\n",
    "    },\n",
    "    max_epochs=100,\n",
    ")"
   ]
  },
  {
   "cell_type": "code",
   "execution_count": 17,
   "id": "b1e924cf-d0e8-4e5c-b75a-f45011edeef4",
   "metadata": {},
   "outputs": [
    {
     "data": {
      "image/png": "[encoded data removed]",
      "text/plain": [
       "<Figure size 640x480 with 1 Axes>"
      ]
     },
     "metadata": {},
     "output_type": "display_data"
    },
    {
     "data": {
      "image/png": "[encoded data removed]",
      "text/plain": [
       "<Figure size 750x750 with 1 Axes>"
      ]
     },
     "metadata": {},
     "output_type": "display_data"
    }
   ],
   "source": [
    "RealsVsPreds.from_final_val_data(trained_model)\n",
    "ConfusionMatrix.from_final_val_data(trained_model)\n",
    "plt.show()"
   ]
  },
  {
   "cell_type": "code",
   "execution_count": null,
   "id": "1e3e03d4-aa91-47fa-be37-2dfb03382e9c",
   "metadata": {},
   "outputs": [],
   "source": []
  }
 ],
 "metadata": {
  "kernelspec": {
   "display_name": "Python 3 (ipykernel)",
   "language": "python",
   "name": "python3"
  },
  "language_info": {
   "codemirror_mode": {
    "name": "ipython",
    "version": 3
   },
   "file_extension": ".py",
   "mimetype": "text/x-python",
   "name": "python",
   "nbconvert_exporter": "python",
   "pygments_lexer": "ipython3",
   "version": "3.12.4"
  }
 },
 "nbformat": 4,
 "nbformat_minor": 5
}
